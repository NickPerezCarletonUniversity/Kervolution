{
 "cells": [
  {
   "cell_type": "code",
   "execution_count": 24,
   "metadata": {},
   "outputs": [
    {
     "name": "stdout",
     "output_type": "stream",
     "text": [
      "found /home/student/Project/Kervolution/logs/mnist/summaries/learning_rate_searches/polynomial_trainable/19_11_2020_17_24_05/numpy_accuracies.npy\n"
     ]
    }
   ],
   "source": [
    "import os\n",
    "import numpy as np\n",
    "\n",
    "\n",
    "accuracies_path = os.path.join(os.getcwd(),'logs','mnist','summaries','learning_rate_searches',\n",
    "                               'polynomial_trainable')\n",
    "arr = 0\n",
    "for path, directories, files in os.walk(accuracies_path):\n",
    "    #print('found %s' % os.path.join(path, files))\n",
    "    if 'numpy_accuracies.npy' in files:\n",
    "        print('found %s' % os.path.join(path, 'numpy_accuracies.npy'))\n",
    "        arr = np.load(os.path.join(path, 'numpy_accuracies.npy'))\n",
    "        \n",
    "            \n",
    "#np.save(os.path.join(log_dir,'summaries','learning_rate_searches',kernel + trainable_str,\n",
    "#                     get_time_str(),'numpy_accuracies'),accuracies)\n",
    "\n",
    "#np.save(os.path.join(log_dir,'summaries','learning_rate_searches',kernel + trainable_str,\n",
    "#                     get_time_str(),'numpy_learning_rates'),learning_rates)\n",
    "        \n",
    "         \n"
   ]
  },
  {
   "cell_type": "code",
   "execution_count": 25,
   "metadata": {},
   "outputs": [
    {
     "data": {
      "image/png": "[encoded data removed]",
      "text/plain": [
       "<Figure size 432x288 with 1 Axes>"
      ]
     },
     "metadata": {
      "needs_background": "light"
     },
     "output_type": "display_data"
    }
   ],
   "source": [
    "import matplotlib.pyplot as plt\n",
    "plt.plot(arr)\n",
    "plt.ylabel('some numbers')\n",
    "plt.show()"
   ]
  },
  {
   "cell_type": "code",
   "execution_count": 26,
   "metadata": {},
   "outputs": [
    {
     "name": "stdout",
     "output_type": "stream",
     "text": [
      "[0.098      0.1135     0.1135     0.1135     0.9885     0.9874\n",
      " 0.98400003]\n"
     ]
    }
   ],
   "source": [
    "print(arr)"
   ]
  },
  {
   "cell_type": "code",
   "execution_count": null,
   "metadata": {},
   "outputs": [],
   "source": []
  }
 ],
 "metadata": {
  "kernelspec": {
   "display_name": "Python 3",
   "language": "python",
   "name": "python3"
  },
  "language_info": {
   "codemirror_mode": {
    "name": "ipython",
    "version": 3
   },
   "file_extension": ".py",
   "mimetype": "text/x-python",
   "name": "python",
   "nbconvert_exporter": "python",
   "pygments_lexer": "ipython3",
   "version": "3.8.5"
  }
 },
 "nbformat": 4,
 "nbformat_minor": 4
}
