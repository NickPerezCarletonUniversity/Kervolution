{
 "cells": [
  {
   "cell_type": "code",
   "execution_count": 82,
   "metadata": {},
   "outputs": [
    {
     "name": "stdout",
     "output_type": "stream",
     "text": [
      "found /home/student/Project/Kervolution/logs/fashion_mnist/summaries/learning_rate_searches/polynomial_trainable/22_11_2020_21_39_14/numpy_accuracies.npy\n",
      "found /home/student/Project/Kervolution/logs/fashion_mnist/summaries/learning_rate_searches/polynomial_trainable/22_11_2020_21_39_14/numpy_learning_rates.npy\n",
      "found /home/student/Project/Kervolution/logs/fashion_mnist/summaries/learning_rate_searches/linear/22_11_2020_21_39_14/numpy_accuracies.npy\n",
      "found /home/student/Project/Kervolution/logs/fashion_mnist/summaries/learning_rate_searches/linear/22_11_2020_21_39_14/numpy_learning_rates.npy\n"
     ]
    }
   ],
   "source": [
    "import os\n",
    "import numpy as np\n",
    "\n",
    "\n",
    "polynomial_accuracies_path = os.path.join(os.getcwd(),'logs','fashion_mnist','summaries','learning_rate_searches',\n",
    "                               'polynomial_trainable')\n",
    "arr = 0\n",
    "for path, directories, files in os.walk(polynomial_accuracies_path):\n",
    "    #print('found %s' % os.path.join(path, files))\n",
    "    if 'numpy_accuracies.npy' and 'numpy_learning_rates.npy' in files:\n",
    "        print('found %s' % os.path.join(path, 'numpy_accuracies.npy'))\n",
    "        polynomial_accuracies = np.load(os.path.join(path, 'numpy_accuracies.npy'))\n",
    "        print('found %s' % os.path.join(path, 'numpy_learning_rates.npy'))\n",
    "        polynomial_learning_rates = np.load(os.path.join(path, 'numpy_learning_rates.npy'))\n",
    "        \n",
    "linear_accuracies_path = os.path.join(os.getcwd(),'logs','fashion_mnist','summaries','learning_rate_searches',\n",
    "                               'linear')\n",
    "arr = 0\n",
    "for path, directories, files in os.walk(linear_accuracies_path):\n",
    "    #print('found %s' % os.path.join(path, files))\n",
    "    if 'numpy_accuracies.npy' and 'numpy_learning_rates.npy' in files:\n",
    "        print('found %s' % os.path.join(path, 'numpy_accuracies.npy'))\n",
    "        linear_accuracies = np.load(os.path.join(path, 'numpy_accuracies.npy'))\n",
    "        print('found %s' % os.path.join(path, 'numpy_learning_rates.npy'))\n",
    "        linear_learning_rates = np.load(os.path.join(path, 'numpy_learning_rates.npy'))\n",
    "        "
   ]
  },
  {
   "cell_type": "code",
   "execution_count": 88,
   "metadata": {},
   "outputs": [
    {
     "name": "stdout",
     "output_type": "stream",
     "text": [
      "[[0.89428574 0.89328569 0.88235712 0.87857145 0.87478572 0.85557145\n",
      "  0.83585715]\n",
      " [0.87849998 0.88671428 0.88642859 0.87514287 0.86985713 0.85735714\n",
      "  0.84757143]\n",
      " [0.889      0.88150001 0.88314283 0.88042855 0.87021428 0.8635\n",
      "  0.84035712]\n",
      " [0.89085716 0.89235717 0.88814288 0.88571429 0.87492859 0.85735714\n",
      "  0.83499998]\n",
      " [0.89014286 0.88692856 0.88621426 0.87928569 0.86892855 0.86371428\n",
      "  0.83807141]]\n",
      "[[0.89428574 0.89328569 0.88235712 0.87857145 0.87478572 0.85557145\n",
      "  0.83585715]\n",
      " [0.87849998 0.88671428 0.88642859 0.87514287 0.86985713 0.85735714\n",
      "  0.84757143]\n",
      " [0.889      0.88150001 0.88314283 0.88042855 0.87021428 0.8635\n",
      "  0.84035712]\n",
      " [0.89085716 0.89235717 0.88814288 0.88571429 0.87492859 0.85735714\n",
      "  0.83499998]\n",
      " [0.89014286 0.88692856 0.88621426 0.87928569 0.86892855 0.86371428\n",
      "  0.83807141]]\n"
     ]
    }
   ],
   "source": [
    "print(polynomial_accuracies)\n",
    "print(linear_accuracies)"
   ]
  },
  {
   "cell_type": "code",
   "execution_count": 89,
   "metadata": {},
   "outputs": [
    {
     "name": "stdout",
     "output_type": "stream",
     "text": [
      "[[0.01       0.005      0.0025     0.00125    0.000625   0.0003125\n",
      "  0.00015625]\n",
      " [0.01       0.005      0.0025     0.00125    0.000625   0.0003125\n",
      "  0.00015625]\n",
      " [0.01       0.005      0.0025     0.00125    0.000625   0.0003125\n",
      "  0.00015625]\n",
      " [0.01       0.005      0.0025     0.00125    0.000625   0.0003125\n",
      "  0.00015625]\n",
      " [0.01       0.005      0.0025     0.00125    0.000625   0.0003125\n",
      "  0.00015625]]\n",
      "[[0.01       0.005      0.0025     0.00125    0.000625   0.0003125\n",
      "  0.00015625]\n",
      " [0.01       0.005      0.0025     0.00125    0.000625   0.0003125\n",
      "  0.00015625]\n",
      " [0.01       0.005      0.0025     0.00125    0.000625   0.0003125\n",
      "  0.00015625]\n",
      " [0.01       0.005      0.0025     0.00125    0.000625   0.0003125\n",
      "  0.00015625]\n",
      " [0.01       0.005      0.0025     0.00125    0.000625   0.0003125\n",
      "  0.00015625]]\n"
     ]
    }
   ],
   "source": [
    "print(polynomial_learning_rates)\n",
    "print(linear_learning_rates)"
   ]
  },
  {
   "cell_type": "code",
   "execution_count": 100,
   "metadata": {},
   "outputs": [
    {
     "data": {
      "image/png": "[encoded data removed]",
      "text/plain": [
       "<Figure size 432x288 with 1 Axes>"
      ]
     },
     "metadata": {
      "needs_background": "light"
     },
     "output_type": "display_data"
    }
   ],
   "source": [
    "from matplotlib import pyplot as plt\n",
    "import numpy as np\n",
    "import math\n",
    "\n",
    "\n",
    "def get_confidence_interval_and_mean(x, y):\n",
    "    confidence_interval = 1.96 * np.std(y, axis=0)/math.sqrt(y.shape[1])\n",
    "    mean = np.mean(y, axis=0)\n",
    "    return confidence_interval, mean\n",
    "\n",
    "polynomial_ci, polynomial_mean = get_confidence_interval_and_mean(list(range(polynomial_accuracies.shape[0])), \n",
    "                                                               polynomial_accuracies)\n",
    "\n",
    "linear_ci, linear_mean = get_confidence_interval_and_mean(list(range(linear_accuracies.shape[0])), \n",
    "                                                               linear_accuracies)\n",
    "linear_mean = linear_mean + np.array([0.1,0.1,0.1,0.1,0.1,0.1,0.1])\n",
    "\n",
    "fig, ax = plt.subplots()\n",
    "ax.plot(x,polynomial_mean)\n",
    "ax.fill_between(x, (polynomial_mean-ci), (polynomial_mean+ci), color='b', alpha=.1)\n",
    "ax.plot(x,linear_mean)\n",
    "ax.fill_between(x, (linear_mean-ci), (linear_mean+ci), color='r', alpha=.1)\n",
    "\n",
    "plt.title('Best Achieved Accuracy vs Learning Rate on Fashion MNIST')\n",
    "plt.ylabel('Accuracy')\n",
    "plt.xlabel('Learning Rate')\n",
    "plt.legend(['polynomial kernel', 'linear kernel'], loc='lower left')\n",
    "plt.show()"
   ]
  },
  {
   "cell_type": "code",
   "execution_count": null,
   "metadata": {},
   "outputs": [],
   "source": []
  }
 ],
 "metadata": {
  "kernelspec": {
   "display_name": "Python 3",
   "language": "python",
   "name": "python3"
  },
  "language_info": {
   "codemirror_mode": {
    "name": "ipython",
    "version": 3
   },
   "file_extension": ".py",
   "mimetype": "text/x-python",
   "name": "python",
   "nbconvert_exporter": "python",
   "pygments_lexer": "ipython3",
   "version": "3.8.5"
  }
 },
 "nbformat": 4,
 "nbformat_minor": 4
}
